{
 "cells": [
  {
   "cell_type": "markdown",
   "id": "beea6540-f924-4b51-bf14-002d94d59935",
   "metadata": {},
   "source": [
    "### Notebook 1: Gaussian Process for Surrogate Modeling\n",
    "\n",
    "In this notebook, we will walk through the process of building a surrogate model with *Gaussian Process* (GP). We will use **GPflow** library to streamline the model training/inference process."
   ]
  },
  {
   "cell_type": "markdown",
   "id": "472bfc04-624f-43ce-8c86-d322e9ed28c9",
   "metadata": {},
   "source": [
    "> GPflow depends on both TensorFlow and TensorFlow Probability, which require very specific versions to be compatible. For example:\n",
    ">\n",
    "> **`!pip install gpflow tensorflow~=2.10.0 tensorflow-probability~=0.18.0`**\n",
    ">\n",
    "> For more details, please refer to the [official documents](https://gpflow.github.io/GPflow/2.9.1/installation.html)."
   ]
  },
  {
   "cell_type": "markdown",
   "id": "a07c43d3-7215-4b56-8792-ee46954e8479",
   "metadata": {},
   "source": [
    "### 0. Import libraries"
   ]
  },
  {
   "cell_type": "code",
   "execution_count": 1,
   "id": "3f31cc5e-387a-4fb0-a5b9-e9ba8f75d43e",
   "metadata": {},
   "outputs": [
    {
     "name": "stdout",
     "output_type": "stream",
     "text": [
      "WARNING:tensorflow:From C:\\Users\\CHSHGUO\\Anaconda3\\envs\\SciML\\lib\\site-packages\\keras\\src\\losses.py:2976: The name tf.losses.sparse_softmax_cross_entropy is deprecated. Please use tf.compat.v1.losses.sparse_softmax_cross_entropy instead.\n",
      "\n",
      "WARNING:tensorflow:From C:\\Users\\CHSHGUO\\Anaconda3\\envs\\SciML\\lib\\site-packages\\tensorflow_probability\\python\\internal\\backend\\numpy\\_utils.py:48: The name tf.logging.TaskLevelStatusMessage is deprecated. Please use tf.compat.v1.logging.TaskLevelStatusMessage instead.\n",
      "\n",
      "WARNING:tensorflow:From C:\\Users\\CHSHGUO\\Anaconda3\\envs\\SciML\\lib\\site-packages\\tensorflow_probability\\python\\internal\\backend\\numpy\\_utils.py:48: The name tf.control_flow_v2_enabled is deprecated. Please use tf.compat.v1.control_flow_v2_enabled instead.\n",
      "\n"
     ]
    }
   ],
   "source": [
    "import matplotlib.pyplot as plt\n",
    "import numpy as np\n",
    "from scipy.stats import qmc\n",
    "\n",
    "import gpflow\n",
    "import tensorflow as tf"
   ]
  },
  {
   "cell_type": "markdown",
   "id": "9070827b-0407-4e09-97c4-37585fb32934",
   "metadata": {},
   "source": [
    "### 1. Problem Setup"
   ]
  },
  {
   "cell_type": "markdown",
   "id": "7cb0e54a-4787-4a7d-98a9-21f9efc24e95",
   "metadata": {},
   "source": [
    "In this notebook, we aim to build a GP-based surrogate model to approximate the following analytical function:\n",
    "\n",
    "\\begin{equation}\n",
    "y = (6x-2)^2sin(12x-4), x \\in [0,1]\n",
    "\\end{equation}"
   ]
  },
  {
   "cell_type": "code",
   "execution_count": 2,
   "id": "695a3b78-548a-4576-8385-8ea8d42d50c8",
   "metadata": {},
   "outputs": [],
   "source": [
    "# Define 1D function\n",
    "def func(X):\n",
    "    \"\"\"Reference function\"\"\"\n",
    "    \n",
    "    y = (X*6-2)**2*np.sin(X*12-4)\n",
    "    \n",
    "    return y"
   ]
  },
  {
   "cell_type": "markdown",
   "id": "806f698f-d08f-4b52-9e19-f2f5b3ab4e93",
   "metadata": {},
   "source": [
    "#### 1.1 Generate train/test dataset"
   ]
  },
  {
   "cell_type": "markdown",
   "id": "e156d4d4-22fc-4c3b-a98a-3a8afd3ba881",
   "metadata": {},
   "source": [
    "We use Latin Hypercube sampling method to create random samples for training."
   ]
  },
  {
   "cell_type": "code",
   "execution_count": 3,
   "id": "d75c630b-e988-40d7-a413-1b65ec161f57",
   "metadata": {},
   "outputs": [],
   "source": [
    "# Training data\n",
    "X_train = np.array([0.0, 0.15, 0.3, 0.4, 0.54, 0.7, 0.8, 1]).reshape(-1,1)\n",
    "# X_train = np.array([0.0, 0.1, 0.2, 0.3, 0.4, 0.5, 0.6, 0.7, 0.8, 0.9, 1]).reshape(-1,1)\n",
    "y_train = func(X_train)\n",
    "\n",
    "# Testing data\n",
    "X_test = np.linspace(0.0, 1, 100).reshape(-1,1)\n",
    "y_test = func(X_test)"
   ]
  },
  {
   "cell_type": "markdown",
   "id": "f364d637-dd81-4ccd-be57-272b5a51df15",
   "metadata": {},
   "source": [
    "#### 1.2 Visualization"
   ]
  },
  {
   "cell_type": "code",
   "execution_count": 4,
   "id": "995fd94e-b542-4ca1-85ca-8a1ebf6894ca",
   "metadata": {},
   "outputs": [
    {
     "data": {
      "image/png": "[encoded data removed]",
      "text/plain": [
       "<Figure size 640x480 with 1 Axes>"
      ]
     },
     "metadata": {},
     "output_type": "display_data"
    }
   ],
   "source": [
    "fig, ax = plt.subplots()\n",
    "ax.scatter(X_train.flatten(), y_train, c='b', label='training samples')\n",
    "ax.plot(X_test.flatten(), y_test, '--r', label='Ref function')\n",
    "ax.legend();"
   ]
  },
  {
   "cell_type": "markdown",
   "id": "80f77024-4f99-491e-b6b7-2dffae786ff8",
   "metadata": {},
   "source": [
    "### 2. Surrogate Modeling"
   ]
  },
  {
   "cell_type": "markdown",
   "id": "13208864-6ac1-4c4f-bcbe-43c1ebadefcc",
   "metadata": {},
   "source": [
    "#### 2.1 Configuring GP model"
   ]
  },
  {
   "cell_type": "markdown",
   "id": "1ac9ae07-1551-47ee-8372-c521490f0761",
   "metadata": {},
   "source": [
    "To develop a GP-based surrogate model, we use the well-established library *GPflow*. This library allows an easy configuraion of the Gaussian Process model and provides different means for training the model. \n",
    "\n",
    "To begin with, let's create a wrapper function to initiate a GP model. In GPflow, configuring a GP model requires several key ingredients:\n",
    "- tuple of training data\n",
    "- kernel function\n",
    "- mean function\n",
    "\n",
    "For both kernel and mean functions, GPflow offers many built-in options that cover many of the use cases. In our current implementation, we will use the most popular `gpflow.kernels.SquaredExponential` for the kernel (also known as Gaussian kernel or RBF kernel), and `gpflow.functions.Polynomial(0)` for the mean function, which stands for a 0-th order polynomial, i.e., a constant value. Later during training, GPflow will optimize the unknown constant mean function, as well as the variance and length scale parameters.\n",
    "\n",
    "As a good practice, we also provide an initial guess for the kernel variance and length scale parameters, respectively. For the variance, we simply use the variance of the training data as the initial guess. For the length scale, we adopt a multi-start strategy, which we will explain in the next section."
   ]
  },
  {
   "cell_type": "code",
   "execution_count": 5,
   "id": "d86070df-2165-424c-9b22-cb851a3cca1b",
   "metadata": {},
   "outputs": [],
   "source": [
    "def config_GP(lengthscale, X_train, y_train):\n",
    "    \n",
    "    # Set up the kernel\n",
    "    kernel = gpflow.kernels.SquaredExponential(variance=np.var(y_train), lengthscales=lengthscale)\n",
    "\n",
    "    # Set up the model\n",
    "    model = gpflow.models.GPR(\n",
    "        (X_train, y_train.reshape(-1, 1)),\n",
    "        kernel=kernel,\n",
    "        mean_function=gpflow.functions.Polynomial(0)\n",
    "    )\n",
    "\n",
    "    return model"
   ]
  },
  {
   "cell_type": "markdown",
   "id": "c48abdee-033a-42fb-bd38-b5f7eece1a27",
   "metadata": {},
   "source": [
    "#### 2.2 Multi-start optimization strategy"
   ]
  },
  {
   "cell_type": "markdown",
   "id": "5db1dbc5-1f63-4979-af6d-dcd79366d486",
   "metadata": {},
   "source": [
    "By default, GPflow adopts the *maximum likelihood estimation* (MLE) approach to learn the GP model parameters. Essentially, this means that the GP model parameters are optimized such that the likelihood of observing the data is maximized. Under the hood, GPflow uses the `L-BFGS` algorithm from `scipy` as the main optimizer. \n",
    "\n",
    "Since `L-BFGS` algorithm is only a local optimization algorithm, it is usually a good practice to employ a **multi-start** strategy, where we run the same optimization routine multiple times, each with a different set of initial values for the GP model parameters. This would give us a higher chance to reach the global optimal.\n",
    "\n",
    "In our current implementation, we apply the multi-start strategy on the length scale parameter, one of the most important parameters that determines the performance of the GP. More specifically, we use Latin Hypercube sampling approach to randomly generate initial guesses for the length scale value and we perform optimization starting from those individual random guesses. \n",
    "\n",
    "As a rule of thumb, we can sample in the range of $[0.01, 100]$, which covers most of the realistic use cases and delivers empirically good results."
   ]
  },
  {
   "cell_type": "code",
   "execution_count": 6,
   "id": "d3d0ae0e-9ac8-406d-9154-b2f3c056f2ec",
   "metadata": {},
   "outputs": [],
   "source": [
    "# We sample in the log-space\n",
    "n_restarts = 5\n",
    "lb, ub = -2, 2\n",
    "lhd = qmc.LatinHypercube(d=X_train.shape[1], seed=42).random(n_restarts)\n",
    "length_scales = (ub-lb)*lhd + lb\n",
    "length_scales = 10**length_scales"
   ]
  },
  {
   "cell_type": "markdown",
   "id": "c8c71728-0a5c-4c35-85d4-60a3d8b11f74",
   "metadata": {},
   "source": [
    "#### 2.3 Training GP model"
   ]
  },
  {
   "cell_type": "code",
   "execution_count": 7,
   "id": "614493c9-d64b-4129-a32d-25f380bd59cf",
   "metadata": {},
   "outputs": [
    {
     "name": "stdout",
     "output_type": "stream",
     "text": [
      "Performing 1-th optimization:\n",
      "Log likelihood: -25.799839758012475\n",
      "Performing 2-th optimization:\n",
      "Log likelihood: -25.799839758391684\n",
      "Performing 3-th optimization:\n",
      "Log likelihood: -24.35704833993556\n",
      "Performing 4-th optimization:\n",
      "Log likelihood: -24.357048300246383\n",
      "Performing 5-th optimization:\n",
      "Log likelihood: -25.79983981613308\n",
      "Best model log-marginal likelihood: -24.357048300246383\n"
     ]
    }
   ],
   "source": [
    "# Configure the GP training procedure\n",
    "models = []\n",
    "log_likelihoods = []\n",
    "\n",
    "with tf.device(\"CPU:0\"):\n",
    "\n",
    "    for i, length_scale in enumerate(length_scales):\n",
    "        print(f\"Performing {i+1}-th optimization:\")\n",
    "\n",
    "        # Init model\n",
    "        model = config_GP(length_scale, X_train, y_train)\n",
    "\n",
    "        # Training\n",
    "        opt = gpflow.optimizers.Scipy()\n",
    "        opt.minimize(model.training_loss, model.trainable_variables, options=dict(maxiter=100))\n",
    "\n",
    "        # Record keeping\n",
    "        models.append(model)\n",
    "        log_likelihoods.append(model.log_marginal_likelihood().numpy())\n",
    "        print(f\"Log likelihood: {log_likelihoods[-1]}\")\n",
    "\n",
    "# Select the model with the highest log-marginal likelihood\n",
    "best_model_index = np.argmax(log_likelihoods)\n",
    "best_model = models[best_model_index]\n",
    "\n",
    "print(f\"Best model log-marginal likelihood: {log_likelihoods[best_model_index]}\")"
   ]
  },
  {
   "cell_type": "markdown",
   "id": "dc1cf204-b5d8-473a-af51-4bdbc6196b7c",
   "metadata": {},
   "source": [
    "#### 2.4 Performance assessment"
   ]
  },
  {
   "cell_type": "markdown",
   "id": "f01b369f-90f5-4a39-8635-ac8d75227232",
   "metadata": {},
   "source": [
    "First, we can display the summary of the trained GP model."
   ]
  },
  {
   "cell_type": "code",
   "execution_count": 8,
   "id": "1addc1b1-98ca-4619-9a55-c5d9ad573f38",
   "metadata": {},
   "outputs": [
    {
     "name": "stdout",
     "output_type": "stream",
     "text": [
      "╒═════════════════════════╤═══════════╤══════════════════╤═════════╤═════════════╤═════════╤═════════╤═════════════╕\n",
      "│ name                    │ class     │ transform        │ prior   │ trainable   │ shape   │ dtype   │ value       │\n",
      "╞═════════════════════════╪═══════════╪══════════════════╪═════════╪═════════════╪═════════╪═════════╪═════════════╡\n",
      "│ GPR.mean_function.w     │ Parameter │ Identity         │         │ True        │ (1, 1)  │ float64 │ [[4.35343]] │\n",
      "├─────────────────────────┼───────────┼──────────────────┼─────────┼─────────────┼─────────┼─────────┼─────────────┤\n",
      "│ GPR.kernel.variance     │ Parameter │ Softplus         │         │ True        │ ()      │ float64 │ 65.39011    │\n",
      "├─────────────────────────┼───────────┼──────────────────┼─────────┼─────────────┼─────────┼─────────┼─────────────┤\n",
      "│ GPR.kernel.lengthscales │ Parameter │ Softplus         │         │ True        │ (1,)    │ float64 │ [0.162]     │\n",
      "├─────────────────────────┼───────────┼──────────────────┼─────────┼─────────────┼─────────┼─────────┼─────────────┤\n",
      "│ GPR.likelihood.variance │ Parameter │ Softplus + Shift │         │ True        │ ()      │ float64 │ 0.0         │\n",
      "╘═════════════════════════╧═══════════╧══════════════════╧═════════╧═════════════╧═════════╧═════════╧═════════════╛\n"
     ]
    }
   ],
   "source": [
    "gpflow.utilities.print_summary(best_model)"
   ]
  },
  {
   "cell_type": "markdown",
   "id": "4b461562-5fff-45d0-8966-d02cdd2b7d1b",
   "metadata": {},
   "source": [
    "Next, we assess the accuracy of the trained GP model. "
   ]
  },
  {
   "cell_type": "code",
   "execution_count": 9,
   "id": "4981511d-03d3-4f32-b831-f48fa0ed1bbc",
   "metadata": {},
   "outputs": [],
   "source": [
    "# GP model predicting\n",
    "f_mean, f_var = best_model.predict_f(X_test, full_cov=False)\n",
    "f_mean = f_mean.numpy().flatten()\n",
    "f_var = f_var.numpy().flatten()"
   ]
  },
  {
   "cell_type": "code",
   "execution_count": 10,
   "id": "9740ca48-d283-4389-8a20-8f3a9d85f4c7",
   "metadata": {},
   "outputs": [
    {
     "data": {
      "image/png": "[encoded data removed]",
      "text/plain": [
       "<Figure size 600x400 with 1 Axes>"
      ]
     },
     "metadata": {},
     "output_type": "display_data"
    }
   ],
   "source": [
    "plt.figure(figsize=(6, 4))\n",
    "plt.plot(X_test.flatten(), f_mean, label='Mean Prediction')\n",
    "plt.plot(X_test.flatten(), y_test.flatten(), label='Ground Truth')\n",
    "plt.fill_between(X_test.flatten(), f_mean-2*np.sqrt(f_var), f_mean+2*np.sqrt(f_var), \n",
    "                 alpha=0.2, label='95% Interval')\n",
    "plt.scatter(X_train.flatten(), y_train.flatten(), c='r', label='Training Data')\n",
    "plt.title('Gaussian Process Regression')\n",
    "plt.legend()\n",
    "plt.show()"
   ]
  },
  {
   "cell_type": "markdown",
   "id": "395f24ce-de74-4501-8f2d-b914c0b9950e",
   "metadata": {},
   "source": [
    "### 3. GP class\n",
    "\n",
    "Now, we can wrap the developed GP training/inference pipeline as a class."
   ]
  },
  {
   "cell_type": "code",
   "execution_count": null,
   "id": "78eb061e-bc44-49a2-ba33-7f050114c808",
   "metadata": {},
   "outputs": [],
   "source": [
    "import numpy as np\n",
    "from scipy.stats import qmc\n",
    "\n",
    "import gpflow\n",
    "import tensorflow as tf\n",
    "\n",
    "class GPflowWrapper:\n",
    "    \"\"\"\n",
    "    Wrapper class for GPflow.\n",
    "    \"\"\"\n",
    "\n",
    "    def __init__(self, kernel=\"squared_exponential\", mean_func=\"const\", n_restarts=5):\n",
    "        \"\"\"\n",
    "        Initialize the GPflowWrapper class.\n",
    "\n",
    "        Args:\n",
    "        - kernel (str): The kernel function to use. Default is \"squared_exponential\".\n",
    "        - mean_func (str): The mean function to use. Default is \"const\".\n",
    "        - n_restarts (int): The number of random restarts for hyperparameter optimization. Default is 5.\n",
    "        \"\"\"\n",
    "        self.kernel = kernel\n",
    "        self.mean_func = mean_func\n",
    "        self.n_restarts = n_restarts\n",
    "        self.GP = None\n",
    "\n",
    "\n",
    "    def fit(self, X_train, y_train, verbose=True):\n",
    "        \"\"\"\n",
    "        Fit the GP model.\n",
    "\n",
    "        Args:\n",
    "        - X_train (np.ndarray): The training input data.\n",
    "        - y_train (np.ndarray): The training output data.\n",
    "        - verbose (bool): Whether to print out the optimization process. Default is True.\n",
    "        \"\"\"\n",
    "        self.dim = X_train.shape[1]\n",
    "        \n",
    "        models = []\n",
    "        log_likelihoods = []\n",
    "\n",
    "        # Generate initial guesses for length scale\n",
    "        self._init_kernel_params(y_train)\n",
    "        kernel_list = self._build_kernels()\n",
    "\n",
    "        with tf.device(\"CPU:0\"):\n",
    "\n",
    "            for i, kernel in enumerate(kernel_list):\n",
    "                if verbose:\n",
    "                    print(f\"Performing {i+1}-th optimization:\")\n",
    "\n",
    "                # Set up the model\n",
    "                model = gpflow.models.GPR(\n",
    "                    (X_train, y_train.reshape(-1, 1)),\n",
    "                    kernel=kernel,\n",
    "                    mean_function=self._build_mean_function()\n",
    "                )\n",
    "\n",
    "                # Training\n",
    "                opt = gpflow.optimizers.Scipy()\n",
    "                opt.minimize(model.training_loss, model.trainable_variables, options=dict(maxiter=100))\n",
    "\n",
    "                # Record keeping\n",
    "                models.append(model)\n",
    "                log_likelihoods.append(model.log_marginal_likelihood().numpy())\n",
    "                if verbose:\n",
    "                    print(f\"Log likelihood: {log_likelihoods[-1]}\")\n",
    "\n",
    "        # Select the best model\n",
    "        best_model_index = np.argmax(log_likelihoods)\n",
    "        self.GP = models[best_model_index]\n",
    "        if verbose:\n",
    "            print(f\"Best model log-marginal likelihood: {log_likelihoods[best_model_index]}\")\n",
    "\n",
    "\n",
    "\n",
    "    def _init_kernel_params(self, y):\n",
    "        \"\"\"\n",
    "        Initialize the kernel parameters.\n",
    "\n",
    "        Args:\n",
    "        - y (np.ndarray): The training output data.\n",
    "        \"\"\"\n",
    "\n",
    "        if self.kernel == \"squared_exponential\":\n",
    "            # Default range\n",
    "            lb, ub = -2, 2\n",
    "\n",
    "            # Latin Hypercube sampling (in log space)\n",
    "            lhd = qmc.LatinHypercube(d=self.dim, seed=42).random(self.n_restarts)\n",
    "            lhd = (ub-lb)*lhd + lb\n",
    "\n",
    "            # Convert back to the original scale\n",
    "            self.length_scales = 10**lhd\n",
    "\n",
    "            # Init process variance\n",
    "            self.variances = np.var(y)*np.ones(self.n_restarts)\n",
    "        \n",
    "        else:\n",
    "            raise KeyError(f\"{self.kernel} kernel not supported yet!\")\n",
    "        \n",
    "\n",
    "\n",
    "    def _build_kernels(self):\n",
    "        \"\"\"\n",
    "        Build a list of kernels. Each kernel has a different initial hyperparameters. \n",
    "        \"\"\"\n",
    "        kernel_list = []\n",
    "\n",
    "        if self.kernel == \"squared_exponential\":\n",
    "            for i in range(self.n_restarts):\n",
    "                kernel_list.append(gpflow.kernels.SquaredExponential(\n",
    "                    variance=self.variances[i], \n",
    "                    lengthscales=self.length_scales[i]))\n",
    "            \n",
    "        else:\n",
    "            raise KeyError(f\"{self.kernel} kernel not supported yet!\")\n",
    "        \n",
    "        return kernel_list\n",
    "        \n",
    "\n",
    "\n",
    "    def _build_mean_function(self):\n",
    "        \"\"\"\n",
    "        Build the mean function.\n",
    "        \"\"\"\n",
    "        if self.mean_func == \"const\":\n",
    "            return gpflow.functions.Polynomial(0)\n",
    "        else:\n",
    "            raise KeyError(f\"{self.mean_func} mean function not supported yet!\")\n",
    "\n",
    "\n",
    "\n",
    "    def predict(self, X_test, full_cov=False):\n",
    "        \"\"\"\n",
    "        Predict the mean and variance of the test data.\n",
    "\n",
    "        Args:\n",
    "        - X_test (np.ndarray): The test input data.\n",
    "        - full_cov (bool): Whether to return the full covariance matrix. Default is False.\n",
    "\n",
    "        Returns:\n",
    "        - f_mean (np.ndarray): The mean of the predicted output.\n",
    "        - f_var (np.ndarray): The variance of the predicted output.\n",
    "        \"\"\"\n",
    "\n",
    "        f_mean, f_var = self.GP.predict_f(X_test, full_cov=full_cov)\n",
    "        f_mean = f_mean.numpy().flatten()\n",
    "        f_var = f_var.numpy().flatten()\n",
    "\n",
    "        return f_mean, f_var"
   ]
  }
 ],
 "metadata": {
  "kernelspec": {
   "display_name": "Python 3 (ipykernel)",
   "language": "python",
   "name": "python3"
  },
  "language_info": {
   "codemirror_mode": {
    "name": "ipython",
    "version": 3
   },
   "file_extension": ".py",
   "mimetype": "text/x-python",
   "name": "python",
   "nbconvert_exporter": "python",
   "pygments_lexer": "ipython3",
   "version": "3.10.12"
  }
 },
 "nbformat": 4,
 "nbformat_minor": 5
}
